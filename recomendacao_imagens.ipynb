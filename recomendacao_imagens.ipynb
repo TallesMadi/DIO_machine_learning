{
  "nbformat": 4,
  "nbformat_minor": 0,
  "metadata": {
    "colab": {
      "provenance": [],
      "authorship_tag": "ABX9TyMet365rd3O3ugfR5C8gFzb"
    },
    "kernelspec": {
      "name": "python3",
      "display_name": "Python 3"
    },
    "language_info": {
      "name": "python"
    }
  },
  "cells": [
    {
      "cell_type": "markdown",
      "source": [
        "https://colab.research.google.com/github/sparsh-ai/rec-tutorials/blob/master/_notebooks/2021-04-27-image-similarity-recommendations.ipynb#scrollTo=xS6CNOmrUfmi"
      ],
      "metadata": {
        "id": "sx-6VhrjvxAf"
      }
    },
    {
      "cell_type": "code",
      "source": [
        "import numpy as np\n",
        "import pandas as pd\n",
        "from tqdm import tqdm\n",
        "from tensorflow.keras.datasets import fashion_mnist\n",
        "from tensorflow.keras.preprocessing.image import img_to_array, array_to_img\n",
        "from tensorflow.keras.applications.resnet50 import ResNet50, preprocess_input\n",
        "from tensorflow.keras.models import Model\n",
        "from sklearn.metrics.pairwise import cosine_similarity\n",
        "from PIL import Image\n",
        "\n",
        "(x_train, y_train), (x_test, y_test) = fashion_mnist.load_data()\n",
        "x_data = np.concatenate([x_train, x_test], axis=0)\n",
        "y_data = np.concatenate([y_train, y_test], axis=0)\n",
        "\n",
        "print(\"Shape das imagens:\", x_data.shape)\n",
        "print(\"Shape dos labels:\", y_data.shape)\n"
      ],
      "metadata": {
        "colab": {
          "base_uri": "https://localhost:8080/"
        },
        "id": "MB9B7L1T_Y0T",
        "outputId": "c0147cc6-b381-4ee2-de42-35a42128fd51"
      },
      "execution_count": 4,
      "outputs": [
        {
          "output_type": "stream",
          "name": "stdout",
          "text": [
            "Shape das imagens: (70000, 28, 28)\n",
            "Shape dos labels: (70000,)\n"
          ]
        }
      ]
    },
    {
      "cell_type": "code",
      "source": [
        "def preprocess_images(images, max_images=None):\n",
        "    images_rgb = []\n",
        "    n = max_images if max_images is not None else len(images)\n",
        "    for img in tqdm(images[:n]):\n",
        "\n",
        "        img_pil = array_to_img(img.reshape(28,28,1)).convert(\"RGB\").resize((224,224))\n",
        "        img_rgb = img_to_array(img_pil)\n",
        "        images_rgb.append(img_rgb)\n",
        "    images_rgb = np.array(images_rgb)\n",
        "    images_rgb = preprocess_input(images_rgb)\n",
        "    return images_rgb\n",
        "\n",
        "x_data_rgb = preprocess_images(x_data, max_images=5000)\n",
        "y_data_small = y_data[:5000]\n",
        "print(\"Shape após preprocessamento:\", x_data_rgb.shape)\n"
      ],
      "metadata": {
        "colab": {
          "base_uri": "https://localhost:8080/"
        },
        "id": "Y6FoJs___ZY7",
        "outputId": "d3ee3aa0-52ff-4fe9-ce8a-d25b3ef33a23"
      },
      "execution_count": 5,
      "outputs": [
        {
          "output_type": "stream",
          "name": "stderr",
          "text": [
            "100%|██████████| 5000/5000 [00:06<00:00, 740.68it/s]\n"
          ]
        },
        {
          "output_type": "stream",
          "name": "stdout",
          "text": [
            "Shape após preprocessamento: (5000, 224, 224, 3)\n"
          ]
        }
      ]
    },
    {
      "cell_type": "code",
      "source": [
        "\n",
        "base_model = ResNet50(weights='imagenet', include_top=False, pooling='avg')\n",
        "model = Model(inputs=base_model.input, outputs=base_model.output)\n",
        "\n",
        "embeddings = model.predict(x_data_rgb, batch_size=32, verbose=1)\n",
        "print(\"Shape dos embeddings:\", embeddings.shape)\n"
      ],
      "metadata": {
        "colab": {
          "base_uri": "https://localhost:8080/"
        },
        "id": "I6_wlzfP_cIL",
        "outputId": "bbdd5e4c-69c5-43fd-9e94-32a272498162"
      },
      "execution_count": null,
      "outputs": [
        {
          "output_type": "stream",
          "name": "stdout",
          "text": [
            "\u001b[1m112/157\u001b[0m \u001b[32m━━━━━━━━━━━━━━\u001b[0m\u001b[37m━━━━━━\u001b[0m \u001b[1m4:19\u001b[0m 6s/step"
          ]
        }
      ]
    },
    {
      "cell_type": "code",
      "source": [
        "def recommend_similar(query_idx, embeddings, top_k=5):\n",
        "    query_embedding = embeddings[query_idx].reshape(1, -1)\n",
        "    similarities = cosine_similarity(query_embedding, embeddings)[0]\n",
        "\n",
        "    top_idx = similarities.argsort()[-(top_k+1):-1][::-1]\n",
        "    return top_idx, similarities[top_idx]\n"
      ],
      "metadata": {
        "id": "Hi_L6yav_dcL"
      },
      "execution_count": null,
      "outputs": []
    },
    {
      "cell_type": "code",
      "source": [
        "import matplotlib.pyplot as plt\n",
        "\n",
        "query_idx = 0\n",
        "top_idx, sim_scores = recommend_similar(query_idx, embeddings, top_k=5)\n",
        "\n",
        "plt.imshow(x_data[query_idx], cmap='gray')\n",
        "plt.title(f\"Imagem de referência: Label={y_data_small[query_idx]}\")\n",
        "plt.axis('off')\n",
        "plt.show()\n",
        "\n",
        "fig, axes = plt.subplots(1,5, figsize=(15,3))\n",
        "for i, ax in enumerate(axes):\n",
        "    ax.imshow(x_data[top_idx[i]], cmap='gray')\n",
        "    ax.set_title(f\"Label={y_data_small[top_idx[i]]}\\nSim={sim_scores[i]:.2f}\")\n",
        "    ax.axis('off')\n",
        "plt.show()\n"
      ],
      "metadata": {
        "id": "pJzNm7_C_ghj"
      },
      "execution_count": null,
      "outputs": []
    }
  ]
}